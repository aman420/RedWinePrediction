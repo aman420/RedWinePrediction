{
 "cells": [
  {
   "cell_type": "code",
   "execution_count": 69,
   "metadata": {},
   "outputs": [],
   "source": [
    "from sklearn import metrics\n",
    "from sklearn.cross_validation import cross_val_score\n",
    "from sklearn.svm import SVC\n",
    "import pandas as pd\n",
    "import numpy as np"
   ]
  },
  {
   "cell_type": "code",
   "execution_count": 70,
   "metadata": {},
   "outputs": [],
   "source": [
    "wine=pd.read_csv('/home/aman/Desktop/wines1.csv',index_col=0)"
   ]
  },
  {
   "cell_type": "code",
   "execution_count": 71,
   "metadata": {},
   "outputs": [
    {
     "data": {
      "text/html": [
       "<div>\n",
       "<table border=\"1\" class=\"dataframe\">\n",
       "  <thead>\n",
       "    <tr style=\"text-align: right;\">\n",
       "      <th></th>\n",
       "      <th>fixed.acidity</th>\n",
       "      <th>volatile.acidity</th>\n",
       "      <th>citric.acid</th>\n",
       "      <th>residual.sugar</th>\n",
       "      <th>chlorides</th>\n",
       "      <th>free.sulfur.dioxide</th>\n",
       "      <th>total.sulfur.dioxide</th>\n",
       "      <th>density</th>\n",
       "      <th>pH</th>\n",
       "      <th>sulphates</th>\n",
       "      <th>alcohol</th>\n",
       "      <th>quality</th>\n",
       "    </tr>\n",
       "  </thead>\n",
       "  <tbody>\n",
       "    <tr>\n",
       "      <th>1</th>\n",
       "      <td>7.4</td>\n",
       "      <td>0.70</td>\n",
       "      <td>0.00</td>\n",
       "      <td>1.9</td>\n",
       "      <td>0.076</td>\n",
       "      <td>11</td>\n",
       "      <td>34</td>\n",
       "      <td>0.9978</td>\n",
       "      <td>3.51</td>\n",
       "      <td>0.56</td>\n",
       "      <td>9.4</td>\n",
       "      <td>5</td>\n",
       "    </tr>\n",
       "    <tr>\n",
       "      <th>2</th>\n",
       "      <td>7.8</td>\n",
       "      <td>0.88</td>\n",
       "      <td>0.00</td>\n",
       "      <td>2.6</td>\n",
       "      <td>0.098</td>\n",
       "      <td>25</td>\n",
       "      <td>67</td>\n",
       "      <td>0.9968</td>\n",
       "      <td>3.20</td>\n",
       "      <td>0.68</td>\n",
       "      <td>9.8</td>\n",
       "      <td>5</td>\n",
       "    </tr>\n",
       "    <tr>\n",
       "      <th>3</th>\n",
       "      <td>7.8</td>\n",
       "      <td>0.76</td>\n",
       "      <td>0.04</td>\n",
       "      <td>2.3</td>\n",
       "      <td>0.092</td>\n",
       "      <td>15</td>\n",
       "      <td>54</td>\n",
       "      <td>0.9970</td>\n",
       "      <td>3.26</td>\n",
       "      <td>0.65</td>\n",
       "      <td>9.8</td>\n",
       "      <td>5</td>\n",
       "    </tr>\n",
       "    <tr>\n",
       "      <th>4</th>\n",
       "      <td>11.2</td>\n",
       "      <td>0.28</td>\n",
       "      <td>0.56</td>\n",
       "      <td>1.9</td>\n",
       "      <td>0.075</td>\n",
       "      <td>17</td>\n",
       "      <td>60</td>\n",
       "      <td>0.9980</td>\n",
       "      <td>3.16</td>\n",
       "      <td>0.58</td>\n",
       "      <td>9.8</td>\n",
       "      <td>6</td>\n",
       "    </tr>\n",
       "    <tr>\n",
       "      <th>5</th>\n",
       "      <td>7.4</td>\n",
       "      <td>0.70</td>\n",
       "      <td>0.00</td>\n",
       "      <td>1.9</td>\n",
       "      <td>0.076</td>\n",
       "      <td>11</td>\n",
       "      <td>34</td>\n",
       "      <td>0.9978</td>\n",
       "      <td>3.51</td>\n",
       "      <td>0.56</td>\n",
       "      <td>9.4</td>\n",
       "      <td>5</td>\n",
       "    </tr>\n",
       "  </tbody>\n",
       "</table>\n",
       "</div>"
      ],
      "text/plain": [
       "   fixed.acidity  volatile.acidity  citric.acid  residual.sugar  chlorides  \\\n",
       "1            7.4              0.70         0.00             1.9      0.076   \n",
       "2            7.8              0.88         0.00             2.6      0.098   \n",
       "3            7.8              0.76         0.04             2.3      0.092   \n",
       "4           11.2              0.28         0.56             1.9      0.075   \n",
       "5            7.4              0.70         0.00             1.9      0.076   \n",
       "\n",
       "   free.sulfur.dioxide  total.sulfur.dioxide  density    pH  sulphates  \\\n",
       "1                   11                    34   0.9978  3.51       0.56   \n",
       "2                   25                    67   0.9968  3.20       0.68   \n",
       "3                   15                    54   0.9970  3.26       0.65   \n",
       "4                   17                    60   0.9980  3.16       0.58   \n",
       "5                   11                    34   0.9978  3.51       0.56   \n",
       "\n",
       "   alcohol  quality  \n",
       "1      9.4        5  \n",
       "2      9.8        5  \n",
       "3      9.8        5  \n",
       "4      9.8        6  \n",
       "5      9.4        5  "
      ]
     },
     "execution_count": 71,
     "metadata": {},
     "output_type": "execute_result"
    }
   ],
   "source": [
    "wine.head()"
   ]
  },
  {
   "cell_type": "code",
   "execution_count": 72,
   "metadata": {},
   "outputs": [
    {
     "data": {
      "text/plain": [
       "(1599, 12)"
      ]
     },
     "execution_count": 72,
     "metadata": {},
     "output_type": "execute_result"
    }
   ],
   "source": [
    "wine.shape"
   ]
  },
  {
   "cell_type": "code",
   "execution_count": 73,
   "metadata": {},
   "outputs": [
    {
     "data": {
      "text/plain": [
       "Index(['fixed.acidity', 'volatile.acidity', 'citric.acid', 'residual.sugar',\n",
       "       'chlorides', 'free.sulfur.dioxide', 'total.sulfur.dioxide', 'density',\n",
       "       'pH', 'sulphates', 'alcohol', 'quality'],\n",
       "      dtype='object')"
      ]
     },
     "execution_count": 73,
     "metadata": {},
     "output_type": "execute_result"
    }
   ],
   "source": [
    "wine.keys()"
   ]
  },
  {
   "cell_type": "code",
   "execution_count": 74,
   "metadata": {},
   "outputs": [],
   "source": [
    "feature_cols=['fixed.acidity', 'volatile.acidity', 'citric.acid', 'residual.sugar',\n",
    "       'chlorides', 'free.sulfur.dioxide', 'total.sulfur.dioxide', 'density',\n",
    "       'pH', 'sulphates', 'alcohol']"
   ]
  },
  {
   "cell_type": "code",
   "execution_count": 75,
   "metadata": {},
   "outputs": [],
   "source": [
    "X=wine[feature_cols]"
   ]
  },
  {
   "cell_type": "code",
   "execution_count": 76,
   "metadata": {},
   "outputs": [
    {
     "data": {
      "text/html": [
       "<div>\n",
       "<table border=\"1\" class=\"dataframe\">\n",
       "  <thead>\n",
       "    <tr style=\"text-align: right;\">\n",
       "      <th></th>\n",
       "      <th>fixed.acidity</th>\n",
       "      <th>volatile.acidity</th>\n",
       "      <th>citric.acid</th>\n",
       "      <th>residual.sugar</th>\n",
       "      <th>chlorides</th>\n",
       "      <th>free.sulfur.dioxide</th>\n",
       "      <th>total.sulfur.dioxide</th>\n",
       "      <th>density</th>\n",
       "      <th>pH</th>\n",
       "      <th>sulphates</th>\n",
       "      <th>alcohol</th>\n",
       "    </tr>\n",
       "  </thead>\n",
       "  <tbody>\n",
       "    <tr>\n",
       "      <th>1</th>\n",
       "      <td>7.4</td>\n",
       "      <td>0.70</td>\n",
       "      <td>0.00</td>\n",
       "      <td>1.9</td>\n",
       "      <td>0.076</td>\n",
       "      <td>11</td>\n",
       "      <td>34</td>\n",
       "      <td>0.9978</td>\n",
       "      <td>3.51</td>\n",
       "      <td>0.56</td>\n",
       "      <td>9.4</td>\n",
       "    </tr>\n",
       "    <tr>\n",
       "      <th>2</th>\n",
       "      <td>7.8</td>\n",
       "      <td>0.88</td>\n",
       "      <td>0.00</td>\n",
       "      <td>2.6</td>\n",
       "      <td>0.098</td>\n",
       "      <td>25</td>\n",
       "      <td>67</td>\n",
       "      <td>0.9968</td>\n",
       "      <td>3.20</td>\n",
       "      <td>0.68</td>\n",
       "      <td>9.8</td>\n",
       "    </tr>\n",
       "    <tr>\n",
       "      <th>3</th>\n",
       "      <td>7.8</td>\n",
       "      <td>0.76</td>\n",
       "      <td>0.04</td>\n",
       "      <td>2.3</td>\n",
       "      <td>0.092</td>\n",
       "      <td>15</td>\n",
       "      <td>54</td>\n",
       "      <td>0.9970</td>\n",
       "      <td>3.26</td>\n",
       "      <td>0.65</td>\n",
       "      <td>9.8</td>\n",
       "    </tr>\n",
       "    <tr>\n",
       "      <th>4</th>\n",
       "      <td>11.2</td>\n",
       "      <td>0.28</td>\n",
       "      <td>0.56</td>\n",
       "      <td>1.9</td>\n",
       "      <td>0.075</td>\n",
       "      <td>17</td>\n",
       "      <td>60</td>\n",
       "      <td>0.9980</td>\n",
       "      <td>3.16</td>\n",
       "      <td>0.58</td>\n",
       "      <td>9.8</td>\n",
       "    </tr>\n",
       "    <tr>\n",
       "      <th>5</th>\n",
       "      <td>7.4</td>\n",
       "      <td>0.70</td>\n",
       "      <td>0.00</td>\n",
       "      <td>1.9</td>\n",
       "      <td>0.076</td>\n",
       "      <td>11</td>\n",
       "      <td>34</td>\n",
       "      <td>0.9978</td>\n",
       "      <td>3.51</td>\n",
       "      <td>0.56</td>\n",
       "      <td>9.4</td>\n",
       "    </tr>\n",
       "  </tbody>\n",
       "</table>\n",
       "</div>"
      ],
      "text/plain": [
       "   fixed.acidity  volatile.acidity  citric.acid  residual.sugar  chlorides  \\\n",
       "1            7.4              0.70         0.00             1.9      0.076   \n",
       "2            7.8              0.88         0.00             2.6      0.098   \n",
       "3            7.8              0.76         0.04             2.3      0.092   \n",
       "4           11.2              0.28         0.56             1.9      0.075   \n",
       "5            7.4              0.70         0.00             1.9      0.076   \n",
       "\n",
       "   free.sulfur.dioxide  total.sulfur.dioxide  density    pH  sulphates  \\\n",
       "1                   11                    34   0.9978  3.51       0.56   \n",
       "2                   25                    67   0.9968  3.20       0.68   \n",
       "3                   15                    54   0.9970  3.26       0.65   \n",
       "4                   17                    60   0.9980  3.16       0.58   \n",
       "5                   11                    34   0.9978  3.51       0.56   \n",
       "\n",
       "   alcohol  \n",
       "1      9.4  \n",
       "2      9.8  \n",
       "3      9.8  \n",
       "4      9.8  \n",
       "5      9.4  "
      ]
     },
     "execution_count": 76,
     "metadata": {},
     "output_type": "execute_result"
    }
   ],
   "source": [
    "X.head()"
   ]
  },
  {
   "cell_type": "code",
   "execution_count": 77,
   "metadata": {},
   "outputs": [],
   "source": [
    "y=wine.quality"
   ]
  },
  {
   "cell_type": "code",
   "execution_count": 78,
   "metadata": {},
   "outputs": [
    {
     "data": {
      "text/plain": [
       "1    5\n",
       "2    5\n",
       "3    5\n",
       "4    6\n",
       "5    5\n",
       "Name: quality, dtype: int64"
      ]
     },
     "execution_count": 78,
     "metadata": {},
     "output_type": "execute_result"
    }
   ],
   "source": [
    "y.head()"
   ]
  },
  {
   "cell_type": "code",
   "execution_count": 79,
   "metadata": {},
   "outputs": [],
   "source": [
    "#feature_Scaling\n",
    "from sklearn.preprocessing import StandardScaler"
   ]
  },
  {
   "cell_type": "code",
   "execution_count": 80,
   "metadata": {},
   "outputs": [],
   "source": [
    "sc=StandardScaler()\n",
    "X = sc.fit_transform(X)"
   ]
  },
  {
   "cell_type": "code",
   "execution_count": 81,
   "metadata": {},
   "outputs": [],
   "source": [
    "from sklearn.model_selection import GridSearchCV"
   ]
  },
  {
   "cell_type": "code",
   "execution_count": 82,
   "metadata": {},
   "outputs": [],
   "source": [
    "k_range=range(1,31)\n",
    "#in Knn classifier other than value of k there are other factors also such as weight-- uniform means accurate neighbor while distance\n",
    "#means the distance is taken into consideration from the actual data point..\n",
    "weight_options=['uniform','distance']\n",
    "param_grid=dict(n_neighbors=k_range,weights=weight_options)"
   ]
  },
  {
   "cell_type": "code",
   "execution_count": 83,
   "metadata": {},
   "outputs": [],
   "source": [
    "from sklearn.neighbors import KNeighborsClassifier"
   ]
  },
  {
   "cell_type": "code",
   "execution_count": 84,
   "metadata": {},
   "outputs": [],
   "source": [
    "knn=KNeighborsClassifier()"
   ]
  },
  {
   "cell_type": "code",
   "execution_count": 85,
   "metadata": {},
   "outputs": [],
   "source": [
    "grid=GridSearchCV(knn,param_grid,cv=10,scoring='accuracy')"
   ]
  },
  {
   "cell_type": "code",
   "execution_count": 86,
   "metadata": {},
   "outputs": [
    {
     "data": {
      "text/plain": [
       "GridSearchCV(cv=10, error_score='raise',\n",
       "       estimator=KNeighborsClassifier(algorithm='auto', leaf_size=30, metric='minkowski',\n",
       "           metric_params=None, n_jobs=1, n_neighbors=5, p=2,\n",
       "           weights='uniform'),\n",
       "       fit_params=None, iid=True, n_jobs=1,\n",
       "       param_grid={'n_neighbors': range(1, 31), 'weights': ['uniform', 'distance']},\n",
       "       pre_dispatch='2*n_jobs', refit=True, return_train_score='warn',\n",
       "       scoring='accuracy', verbose=0)"
      ]
     },
     "execution_count": 86,
     "metadata": {},
     "output_type": "execute_result"
    }
   ],
   "source": [
    "grid.fit(X,y)"
   ]
  },
  {
   "cell_type": "code",
   "execution_count": 87,
   "metadata": {},
   "outputs": [
    {
     "name": "stdout",
     "output_type": "stream",
     "text": [
      "[mean: 0.48655, std: 0.05024, params: {'n_neighbors': 1, 'weights': 'uniform'}, mean: 0.48655, std: 0.05024, params: {'n_neighbors': 1, 'weights': 'distance'}, mean: 0.49031, std: 0.03207, params: {'n_neighbors': 2, 'weights': 'uniform'}, mean: 0.48655, std: 0.05024, params: {'n_neighbors': 2, 'weights': 'distance'}, mean: 0.48593, std: 0.02892, params: {'n_neighbors': 3, 'weights': 'uniform'}, mean: 0.50719, std: 0.03397, params: {'n_neighbors': 3, 'weights': 'distance'}, mean: 0.52408, std: 0.04367, params: {'n_neighbors': 4, 'weights': 'uniform'}, mean: 0.51094, std: 0.04201, params: {'n_neighbors': 4, 'weights': 'distance'}, mean: 0.51907, std: 0.03453, params: {'n_neighbors': 5, 'weights': 'uniform'}, mean: 0.52095, std: 0.03875, params: {'n_neighbors': 5, 'weights': 'distance'}, mean: 0.53283, std: 0.03949, params: {'n_neighbors': 6, 'weights': 'uniform'}, mean: 0.52658, std: 0.03541, params: {'n_neighbors': 6, 'weights': 'distance'}, mean: 0.52595, std: 0.04282, params: {'n_neighbors': 7, 'weights': 'uniform'}, mean: 0.53221, std: 0.03950, params: {'n_neighbors': 7, 'weights': 'distance'}, mean: 0.53909, std: 0.05133, params: {'n_neighbors': 8, 'weights': 'uniform'}, mean: 0.53158, std: 0.03740, params: {'n_neighbors': 8, 'weights': 'distance'}, mean: 0.53283, std: 0.05309, params: {'n_neighbors': 9, 'weights': 'uniform'}, mean: 0.54159, std: 0.04704, params: {'n_neighbors': 9, 'weights': 'distance'}, mean: 0.53596, std: 0.04306, params: {'n_neighbors': 10, 'weights': 'uniform'}, mean: 0.53596, std: 0.04032, params: {'n_neighbors': 10, 'weights': 'distance'}, mean: 0.54034, std: 0.04977, params: {'n_neighbors': 11, 'weights': 'uniform'}, mean: 0.54972, std: 0.04633, params: {'n_neighbors': 11, 'weights': 'distance'}, mean: 0.54597, std: 0.04248, params: {'n_neighbors': 12, 'weights': 'uniform'}, mean: 0.54659, std: 0.05180, params: {'n_neighbors': 12, 'weights': 'distance'}, mean: 0.54409, std: 0.04559, params: {'n_neighbors': 13, 'weights': 'uniform'}, mean: 0.54722, std: 0.05012, params: {'n_neighbors': 13, 'weights': 'distance'}, mean: 0.55347, std: 0.03943, params: {'n_neighbors': 14, 'weights': 'uniform'}, mean: 0.55222, std: 0.04685, params: {'n_neighbors': 14, 'weights': 'distance'}, mean: 0.56160, std: 0.02823, params: {'n_neighbors': 15, 'weights': 'uniform'}, mean: 0.55722, std: 0.04033, params: {'n_neighbors': 15, 'weights': 'distance'}, mean: 0.55910, std: 0.04216, params: {'n_neighbors': 16, 'weights': 'uniform'}, mean: 0.55597, std: 0.04107, params: {'n_neighbors': 16, 'weights': 'distance'}, mean: 0.55222, std: 0.03714, params: {'n_neighbors': 17, 'weights': 'uniform'}, mean: 0.55722, std: 0.03566, params: {'n_neighbors': 17, 'weights': 'distance'}, mean: 0.54847, std: 0.04012, params: {'n_neighbors': 18, 'weights': 'uniform'}, mean: 0.56098, std: 0.03575, params: {'n_neighbors': 18, 'weights': 'distance'}, mean: 0.54659, std: 0.04243, params: {'n_neighbors': 19, 'weights': 'uniform'}, mean: 0.56410, std: 0.04071, params: {'n_neighbors': 19, 'weights': 'distance'}, mean: 0.55222, std: 0.03997, params: {'n_neighbors': 20, 'weights': 'uniform'}, mean: 0.56660, std: 0.03196, params: {'n_neighbors': 20, 'weights': 'distance'}, mean: 0.55034, std: 0.04139, params: {'n_neighbors': 21, 'weights': 'uniform'}, mean: 0.56035, std: 0.03897, params: {'n_neighbors': 21, 'weights': 'distance'}, mean: 0.54972, std: 0.04884, params: {'n_neighbors': 22, 'weights': 'uniform'}, mean: 0.55660, std: 0.04116, params: {'n_neighbors': 22, 'weights': 'distance'}, mean: 0.55347, std: 0.05292, params: {'n_neighbors': 23, 'weights': 'uniform'}, mean: 0.55660, std: 0.03745, params: {'n_neighbors': 23, 'weights': 'distance'}, mean: 0.55785, std: 0.04235, params: {'n_neighbors': 24, 'weights': 'uniform'}, mean: 0.55972, std: 0.03427, params: {'n_neighbors': 24, 'weights': 'distance'}, mean: 0.54847, std: 0.04282, params: {'n_neighbors': 25, 'weights': 'uniform'}, mean: 0.56285, std: 0.03437, params: {'n_neighbors': 25, 'weights': 'distance'}, mean: 0.55285, std: 0.04204, params: {'n_neighbors': 26, 'weights': 'uniform'}, mean: 0.56911, std: 0.03505, params: {'n_neighbors': 26, 'weights': 'distance'}, mean: 0.55722, std: 0.04251, params: {'n_neighbors': 27, 'weights': 'uniform'}, mean: 0.57223, std: 0.03531, params: {'n_neighbors': 27, 'weights': 'distance'}, mean: 0.56410, std: 0.04863, params: {'n_neighbors': 28, 'weights': 'uniform'}, mean: 0.57411, std: 0.03467, params: {'n_neighbors': 28, 'weights': 'distance'}, mean: 0.55847, std: 0.04750, params: {'n_neighbors': 29, 'weights': 'uniform'}, mean: 0.57348, std: 0.03622, params: {'n_neighbors': 29, 'weights': 'distance'}, mean: 0.55285, std: 0.04806, params: {'n_neighbors': 30, 'weights': 'uniform'}, mean: 0.56535, std: 0.03946, params: {'n_neighbors': 30, 'weights': 'distance'}]\n"
     ]
    },
    {
     "name": "stderr",
     "output_type": "stream",
     "text": [
      "/home/aman/.local/lib/python3.5/site-packages/sklearn/model_selection/_search.py:761: DeprecationWarning: The grid_scores_ attribute was deprecated in version 0.18 in favor of the more elaborate cv_results_ attribute. The grid_scores_ attribute will not be available from 0.20\n",
      "  DeprecationWarning)\n"
     ]
    }
   ],
   "source": [
    "print(grid.grid_scores_)"
   ]
  },
  {
   "cell_type": "code",
   "execution_count": 88,
   "metadata": {},
   "outputs": [
    {
     "name": "stdout",
     "output_type": "stream",
     "text": [
      "{'n_neighbors': 1, 'weights': 'uniform'}\n"
     ]
    },
    {
     "name": "stderr",
     "output_type": "stream",
     "text": [
      "/home/aman/.local/lib/python3.5/site-packages/sklearn/model_selection/_search.py:761: DeprecationWarning: The grid_scores_ attribute was deprecated in version 0.18 in favor of the more elaborate cv_results_ attribute. The grid_scores_ attribute will not be available from 0.20\n",
      "  DeprecationWarning)\n"
     ]
    }
   ],
   "source": [
    "print(grid.grid_scores_[0].parameters)"
   ]
  },
  {
   "cell_type": "code",
   "execution_count": 89,
   "metadata": {},
   "outputs": [
    {
     "name": "stdout",
     "output_type": "stream",
     "text": [
      "[ 0.53703704  0.51552795  0.46583851  0.4125      0.525       0.43125\n",
      "  0.44375     0.5125      0.44936709  0.57324841]\n"
     ]
    },
    {
     "name": "stderr",
     "output_type": "stream",
     "text": [
      "/home/aman/.local/lib/python3.5/site-packages/sklearn/model_selection/_search.py:761: DeprecationWarning: The grid_scores_ attribute was deprecated in version 0.18 in favor of the more elaborate cv_results_ attribute. The grid_scores_ attribute will not be available from 0.20\n",
      "  DeprecationWarning)\n"
     ]
    }
   ],
   "source": [
    "print(grid.grid_scores_[0].cv_validation_scores)"
   ]
  },
  {
   "cell_type": "code",
   "execution_count": 90,
   "metadata": {},
   "outputs": [
    {
     "name": "stderr",
     "output_type": "stream",
     "text": [
      "/home/aman/.local/lib/python3.5/site-packages/sklearn/model_selection/_search.py:761: DeprecationWarning: The grid_scores_ attribute was deprecated in version 0.18 in favor of the more elaborate cv_results_ attribute. The grid_scores_ attribute will not be available from 0.20\n",
      "  DeprecationWarning)\n"
     ]
    }
   ],
   "source": [
    "#for finding only from grid_scores_\n",
    "grid_mean_scores=[result.mean_validation_score for result in grid.grid_scores_]"
   ]
  },
  {
   "cell_type": "code",
   "execution_count": 91,
   "metadata": {},
   "outputs": [
    {
     "name": "stdout",
     "output_type": "stream",
     "text": [
      "[0.48655409631019386, 0.48655409631019386, 0.49030644152595371, 0.48655409631019386, 0.48592870544090055, 0.50719199499687306, 0.52407754846779242, 0.51094434021263291, 0.51907442151344585, 0.52095059412132583, 0.53283302063789872, 0.52657911194496565, 0.52595372107567229, 0.53220762976860536, 0.5390869293308318, 0.53158223889931211, 0.53283302063789872, 0.54158849280800503, 0.53595997498436521, 0.53595997498436521, 0.54033771106941841, 0.54971857410881797, 0.54596622889305813, 0.54659161976235149, 0.54409005628517826, 0.54721701063164474, 0.55347091932457781, 0.5522201375859912, 0.56160100062539087, 0.55722326454033766, 0.55909943714821764, 0.55597248280175104, 0.5522201375859912, 0.55722326454033766, 0.54846779237023136, 0.56097560975609762, 0.54659161976235149, 0.5641025641025641, 0.5522201375859912, 0.56660412757973733, 0.55034396497811133, 0.56035021888680425, 0.54971857410881797, 0.55659787367104441, 0.55347091932457781, 0.55659787367104441, 0.55784865540963102, 0.55972482801751089, 0.54846779237023136, 0.56285178236397748, 0.55284552845528456, 0.56910569105691056, 0.55722326454033766, 0.57223264540337715, 0.5641025641025641, 0.57410881801125702, 0.55847404627892427, 0.57348342714196376, 0.55284552845528456, 0.56535334584115071]\n"
     ]
    }
   ],
   "source": [
    "print(grid_mean_scores)"
   ]
  },
  {
   "cell_type": "code",
   "execution_count": 92,
   "metadata": {},
   "outputs": [
    {
     "name": "stdout",
     "output_type": "stream",
     "text": [
      "0.574108818011\n"
     ]
    }
   ],
   "source": [
    "#for printing best score\n",
    "print(grid.best_score_)"
   ]
  },
  {
   "cell_type": "code",
   "execution_count": 93,
   "metadata": {},
   "outputs": [
    {
     "name": "stdout",
     "output_type": "stream",
     "text": [
      "{'n_neighbors': 28, 'weights': 'distance'}\n",
      "KNeighborsClassifier(algorithm='auto', leaf_size=30, metric='minkowski',\n",
      "           metric_params=None, n_jobs=1, n_neighbors=28, p=2,\n",
      "           weights='distance')\n"
     ]
    }
   ],
   "source": [
    "print(grid.best_params_)\n",
    "print(grid.best_estimator_)"
   ]
  }
 ],
 "metadata": {
  "kernelspec": {
   "display_name": "Python 3",
   "language": "python",
   "name": "python3"
  },
  "language_info": {
   "codemirror_mode": {
    "name": "ipython",
    "version": 3
   },
   "file_extension": ".py",
   "mimetype": "text/x-python",
   "name": "python",
   "nbconvert_exporter": "python",
   "pygments_lexer": "ipython3",
   "version": "3.5.2"
  }
 },
 "nbformat": 4,
 "nbformat_minor": 2
}
